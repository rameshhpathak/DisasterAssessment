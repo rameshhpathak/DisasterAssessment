{
 "cells": [
  {
   "cell_type": "code",
   "execution_count": 9,
   "metadata": {
    "colab": {
     "base_uri": "https://localhost:8080/",
     "height": 35
    },
    "colab_type": "code",
    "executionInfo": {
     "elapsed": 3707,
     "status": "ok",
     "timestamp": 1551105391557,
     "user": {
      "displayName": "Avishekh Shrestha",
      "photoUrl": "https://lh5.googleusercontent.com/-t4JsIBoCpek/AAAAAAAAAAI/AAAAAAAAAAc/tOvRUavugqM/s64/photo.jpg",
      "userId": "09179061880952252031"
     },
     "user_tz": -345
    },
    "id": "jMUBqsU6n8OO",
    "outputId": "99ba1813-f9cc-4d3e-c3bb-b718868941db"
   },
   "outputs": [
    {
     "name": "stdout",
     "output_type": "stream",
     "text": [
      "Mounted at /content/drive\n"
     ]
    }
   ],
   "source": [
    "from google.colab import drive\n",
    "drive.mount('/content/drive',force_remount=True)"
   ]
  },
  {
   "cell_type": "code",
   "execution_count": 0,
   "metadata": {
    "colab": {},
    "colab_type": "code",
    "id": "Zp5VK_kdr3n-"
   },
   "outputs": [],
   "source": [
    "!pip install -U -q PyDrive\n",
    "from pydrive.auth import GoogleAuth\n",
    "from pydrive.drive import GoogleDrive\n",
    "from google.colab import auth\n",
    "from oauth2client.client import GoogleCredentials\n",
    "\n",
    "auth.authenticate_user()\n",
    "gauth = GoogleAuth()\n",
    "gauth.credentials = GoogleCredentials.get_application_default()\n",
    "drive = GoogleDrive(gauth)"
   ]
  },
  {
   "cell_type": "code",
   "execution_count": 0,
   "metadata": {
    "colab": {},
    "colab_type": "code",
    "id": "WIYt5SGyoDvM"
   },
   "outputs": [],
   "source": [
    "Basic_blocks = drive.CreateFile({'id':'1LIJahCBOgKswPjV3dCdjno6iQunL1JQN'})\n",
    "FusionNet = drive.CreateFile({'id':'1tEd6iRLRH-aQO7dzZkkYnZ4sYDVSaNNz'})\n",
    "UNet = drive.CreateFile({'id':'1Xf0xSo-CswXiuiUR_tc9IbvzRx-UWU7M'})"
   ]
  },
  {
   "cell_type": "code",
   "execution_count": 0,
   "metadata": {
    "colab": {},
    "colab_type": "code",
    "id": "KKPeQn4du1qC"
   },
   "outputs": [],
   "source": [
    "Basic_blocks.GetContentFile('Basic_blocks.py')\n",
    "FusionNet.GetContentFile('FusionNet.py')\n",
    "UNet.GetContentFile('UNet.py')"
   ]
  },
  {
   "cell_type": "code",
   "execution_count": 0,
   "metadata": {
    "colab": {},
    "colab_type": "code",
    "id": "hk0_tJp-vp8X"
   },
   "outputs": [],
   "source": [
    "from FusionNet import *\n",
    "from UNet import *\n",
    "import numpy as np\n",
    "import matplotlib.pyplot as plt"
   ]
  },
  {
   "cell_type": "code",
   "execution_count": 0,
   "metadata": {
    "colab": {},
    "colab_type": "code",
    "id": "T7-hyKcjvwX3"
   },
   "outputs": [],
   "source": [
    "# hyperparameters\n",
    "batch_size = 2\n",
    "img_size = 512\n",
    "lr = 0.0005\n",
    "epoch = 10"
   ]
  },
  {
   "cell_type": "code",
   "execution_count": 0,
   "metadata": {
    "colab": {},
    "colab_type": "code",
    "id": "DOKNY-LHJzxO"
   },
   "outputs": [],
   "source": [
    "# input pipeline\n",
    "img_dir = \"/content/drive/My Drive/.../Datasets/DeepGlobe/Roads\"\n",
    "\n",
    "img_data = dset.ImageFolder(root=img_dir, transform=transforms.Compose([\n",
    "    transforms.Resize(size=img_size),\n",
    "    transforms.CenterCrop(size=(img_size, img_size * 2)),\n",
    "    transforms.ToTensor(),\n",
    "]))\n",
    "img_batch = data.DataLoader(img_data, batch_size=batch_size,\n",
    "                            shuffle=True, num_workers=0)"
   ]
  },
  {
   "cell_type": "code",
   "execution_count": 16,
   "metadata": {
    "colab": {
     "base_uri": "https://localhost:8080/",
     "height": 71
    },
    "colab_type": "code",
    "executionInfo": {
     "elapsed": 1808,
     "status": "ok",
     "timestamp": 1551105442896,
     "user": {
      "displayName": "Avishekh Shrestha",
      "photoUrl": "https://lh5.googleusercontent.com/-t4JsIBoCpek/AAAAAAAAAAI/AAAAAAAAAAc/tOvRUavugqM/s64/photo.jpg",
      "userId": "09179061880952252031"
     },
     "user_tz": -345
    },
    "id": "JgYlm0rjFVye",
    "outputId": "2732ef9e-c14b-416c-cfce-e5b56e9efad5"
   },
   "outputs": [
    {
     "name": "stdout",
     "output_type": "stream",
     "text": [
      "\n",
      "------Initiating U-Net------\n",
      "\n"
     ]
    }
   ],
   "source": [
    "# initiate Generator\n",
    "generator = UnetGenerator(3, 3, 64).cuda()"
   ]
  },
  {
   "cell_type": "code",
   "execution_count": 17,
   "metadata": {
    "colab": {
     "base_uri": "https://localhost:8080/",
     "height": 71
    },
    "colab_type": "code",
    "executionInfo": {
     "elapsed": 2704,
     "status": "ok",
     "timestamp": 1551105447550,
     "user": {
      "displayName": "Avishekh Shrestha",
      "photoUrl": "https://lh5.googleusercontent.com/-t4JsIBoCpek/AAAAAAAAAAI/AAAAAAAAAAc/tOvRUavugqM/s64/photo.jpg",
      "userId": "09179061880952252031"
     },
     "user_tz": -345
    },
    "id": "XvP-BMV9FVCE",
    "outputId": "7d937a45-09e9-4166-cbaa-de9838a98c06"
   },
   "outputs": [
    {
     "name": "stdout",
     "output_type": "stream",
     "text": [
      "\n",
      "--------model restored--------\n",
      "\n"
     ]
    }
   ],
   "source": [
    "# load pretrained model\n",
    "\n",
    "path = \"/content/drive/My Drive/.../Datasets/DeepGlobe/Roads/Unet.pkl\"\n",
    "\n",
    "try:\n",
    "    generator = torch.load(path)\n",
    "    print(\"\\n--------model restored--------\\n\")\n",
    "except:\n",
    "    print(\"\\n--------model not restored--------\\n\")\n",
    "    pass\n"
   ]
  },
  {
   "cell_type": "code",
   "execution_count": 0,
   "metadata": {
    "colab": {
     "base_uri": "https://localhost:8080/",
     "height": 449
    },
    "colab_type": "code",
    "executionInfo": {
     "elapsed": 990,
     "status": "error",
     "timestamp": 1551093218128,
     "user": {
      "displayName": "Avishekh Shrestha",
      "photoUrl": "https://lh5.googleusercontent.com/-t4JsIBoCpek/AAAAAAAAAAI/AAAAAAAAAAc/tOvRUavugqM/s64/photo.jpg",
      "userId": "09179061880952252031"
     },
     "user_tz": -345
    },
    "id": "BH-ZEYe27M3T",
    "outputId": "f40e897f-447d-4f50-e49b-a3c465d27052"
   },
   "outputs": [
    {
     "name": "stdout",
     "output_type": "stream",
     "text": [
      "0\n",
      "Variable containing:\n",
      "1.00000e-02 *\n",
      "  2.3387\n",
      "[torch.cuda.FloatTensor of size 1 (GPU 0)]\n",
      "\n",
      "0\n",
      "Variable containing:\n",
      "1.00000e-02 *\n",
      "  1.9865\n",
      "[torch.cuda.FloatTensor of size 1 (GPU 0)]\n",
      "\n",
      "0\n",
      "Variable containing:\n",
      "1.00000e-03 *\n",
      "  8.2340\n",
      "[torch.cuda.FloatTensor of size 1 (GPU 0)]\n",
      "\n",
      "0\n",
      "Variable containing:\n",
      "1.00000e-02 *\n",
      "  1.0552\n",
      "[torch.cuda.FloatTensor of size 1 (GPU 0)]\n",
      "\n"
     ]
    }
   ],
   "source": [
    "savepath = \"content/drive/My Drive/.../Datasets/DeepGlobe/Roads/result/\"\n",
    "  \n",
    "# loss function \n",
    "\n",
    "loss_func = nn.MSELoss()\n",
    "gen_optimizer = torch.optim.Adam(generator.parameters(), lr=lr)\n",
    "\n",
    "# training\n",
    "\n",
    "#file = open('./content/drive/My Drive/Major Project/Images/Datasets/DeepGlobe/Roads/Unet_mse_loss', 'w')\n",
    "for i in range(epoch):\n",
    "    for _, (image, label) in enumerate(img_batch):\n",
    "        satel_image, map_image = torch.chunk(image, chunks=2, dim=3)\n",
    "\n",
    "        gen_optimizer.zero_grad()\n",
    "\n",
    "        x = Variable(satel_image).cuda(0)\n",
    "        y_ = Variable(map_image).cuda(0)\n",
    "        y = generator.forward(x)\n",
    "\n",
    "        loss = loss_func(y, y_)\n",
    "        #file.write(str(loss) + \"\\n\")\n",
    "        loss.backward()\n",
    "        gen_optimizer.step()\n",
    "\n",
    "        if _ % 400 == 0:\n",
    "            print(i)\n",
    "            print(loss)\n",
    "            #v_utils.save_image(x.cpu().data, savepath+\"original_image_{}_{}.png\".format(i, _))\n",
    "            #v_utils.save_image(y_.cpu().data, savepath+\"label_image_{}_{}.png\".format(i, _))\n",
    "            #v_utils.save_image(y.cpu().data, savepath+\"gen_image_{}_{}.png\".format(i, _))\n",
    "            torch.save(generator, path)"
   ]
  }
 ],
 "metadata": {
  "accelerator": "GPU",
  "colab": {
   "name": "segmentation_major.ipynb",
   "provenance": [],
   "version": "0.3.2"
  },
  "kernelspec": {
   "display_name": "Python 3",
   "language": "python",
   "name": "python3"
  },
  "language_info": {
   "codemirror_mode": {
    "name": "ipython",
    "version": 3
   },
   "file_extension": ".py",
   "mimetype": "text/x-python",
   "name": "python",
   "nbconvert_exporter": "python",
   "pygments_lexer": "ipython3",
   "version": "3.6.6"
  }
 },
 "nbformat": 4,
 "nbformat_minor": 1
}
