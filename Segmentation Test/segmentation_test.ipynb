{
 "cells": [
  {
   "cell_type": "code",
   "execution_count": 0,
   "metadata": {
    "colab": {},
    "colab_type": "code",
    "id": "hk0_tJp-vp8X"
   },
   "outputs": [],
   "source": [
    "from FusionNet import *\n",
    "from UNet import *\n",
    "import numpy as np\n",
    "import matplotlib.pyplot as plt"
   ]
  },
  {
   "cell_type": "code",
   "execution_count": 0,
   "metadata": {
    "colab": {},
    "colab_type": "code",
    "id": "mdtrLpq1SE4E"
   },
   "outputs": [],
   "source": [
    "#img_size = 1024"
   ]
  },
  {
   "cell_type": "code",
   "execution_count": 0,
   "metadata": {
    "colab": {},
    "colab_type": "code",
    "id": "DOKNY-LHJzxO"
   },
   "outputs": [],
   "source": [
    "# input pipeline\n",
    "img_dir = \"./Datasets/DeepGlobe/Test\"\n",
    "\n",
    "img_data = dset.ImageFolder(root=img_dir, transform=transforms.Compose([\n",
    "    transforms.ToTensor(),\n",
    "]))\n",
    "img_batch = data.DataLoader(img_data, shuffle=True, num_workers=5)"
   ]
  },
  {
   "cell_type": "code",
   "execution_count": 7,
   "metadata": {
    "colab": {
     "base_uri": "https://localhost:8080/",
     "height": 72
    },
    "colab_type": "code",
    "id": "JgYlm0rjFVye",
    "outputId": "d21d433d-963c-4eec-debe-cc9c11aed61b"
   },
   "outputs": [
    {
     "name": "stdout",
     "output_type": "stream",
     "text": [
      "\n",
      "------Initiating U-Net------\n",
      "\n"
     ]
    }
   ],
   "source": [
    "# initiate Generator\n",
    "generator = UnetGenerator(3, 3, 64).cuda()"
   ]
  },
  {
   "cell_type": "code",
   "execution_count": 8,
   "metadata": {
    "colab": {
     "base_uri": "https://localhost:8080/",
     "height": 72
    },
    "colab_type": "code",
    "id": "XvP-BMV9FVCE",
    "outputId": "92dfeb2f-8e53-4cba-de65-98ef494da8b7"
   },
   "outputs": [
    {
     "name": "stdout",
     "output_type": "stream",
     "text": [
      "\n",
      "--------model restored--------\n",
      "\n"
     ]
    }
   ],
   "source": [
    "# load pretrained model\n",
    "\n",
    "path = \"./Datasets/DeepGlobe/segmentation/Result/unet1.pkl\"\n",
    "\n",
    "try:\n",
    "    generator = torch.load(path)\n",
    "    print(\"\\n--------model restored--------\\n\")\n",
    "except:\n",
    "    print(\"\\n--------model not restored--------\\n\")\n",
    "    pass\n"
   ]
  },
  {
   "cell_type": "code",
   "execution_count": 0,
   "metadata": {
    "colab": {},
    "colab_type": "code",
    "id": "BH-ZEYe27M3T"
   },
   "outputs": [],
   "source": [
    "for _, (image, label) in enumerate(img_batch):\n",
    "    satel_image = image\n",
    "\n",
    "    x = Variable(satel_image).cuda(0)\n",
    "    y = generator.forward(x)\n",
    "\n",
    "    test = \"./Datasets/DeepGlobe/segmentation/Result/comparison/\"+\"comp_image_{}_{}.png\".format(_, _)\n",
    "    \n",
    "    v_utils.save_image(torch.cat((x, y), 0).cpu().data, test)    \n",
    "    "
   ]
  },
  {
   "cell_type": "code",
   "execution_count": 0,
   "metadata": {
    "colab": {},
    "colab_type": "code",
    "id": "RyC7j8NeUaP8"
   },
   "outputs": [],
   "source": []
  }
 ],
 "metadata": {
  "accelerator": "GPU",
  "colab": {
   "name": "segmentation_test.ipynb",
   "provenance": [],
   "version": "0.3.2"
  },
  "kernelspec": {
   "display_name": "Python 3",
   "language": "python",
   "name": "python3"
  },
  "language_info": {
   "codemirror_mode": {
    "name": "ipython",
    "version": 3
   },
   "file_extension": ".py",
   "mimetype": "text/x-python",
   "name": "python",
   "nbconvert_exporter": "python",
   "pygments_lexer": "ipython3",
   "version": "3.6.6"
  }
 },
 "nbformat": 4,
 "nbformat_minor": 1
}
