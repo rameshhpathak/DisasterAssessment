{
 "cells": [
  {
   "cell_type": "code",
   "execution_count": 1,
   "metadata": {},
   "outputs": [],
   "source": [
    "import os\n",
    "import fnmatch"
   ]
  },
  {
   "cell_type": "code",
   "execution_count": 2,
   "metadata": {},
   "outputs": [],
   "source": [
    "import numpy as np\n",
    "import cv2"
   ]
  },
  {
   "cell_type": "code",
   "execution_count": 3,
   "metadata": {},
   "outputs": [],
   "source": [
    "#Notice each _sat.jpg and _mask.png image  starts with unique ID\n",
    "#first list contains names of sat image and second list contains names of masked image\n",
    "\n",
    "flist1 = []\n",
    "flist2 = []\n",
    "for file in os.listdir('./train/'):\n",
    "    if fnmatch.fnmatch(file, '*.jpg'):\n",
    "        flist1.append(file)\n",
    "        flist2.append((file.split('_')[0] + \"_mask.png\"))"
   ]
  },
  {
   "cell_type": "code",
   "execution_count": 5,
   "metadata": {},
   "outputs": [],
   "source": [
    "#stacking sat and masked image\n",
    "i=1\n",
    "for sat,mask in zip(flist1,flist2):\n",
    "    cv2.imwrite(\"./mergetrain/\"+str(i)+\".jpg\",np.hstack((cv2.imread(\"./train/\"+sat),cv2.imread(\"./train/\"+mask))))\n",
    "    i=i+1"
   ]
  },
  {
   "cell_type": "code",
   "execution_count": null,
   "metadata": {},
   "outputs": [],
   "source": [
    "#visualizing the first data\n",
    "cv2.imshow('image',dataset[0])\n",
    "cv2.waitKey(0)\n",
    "cv2.destroyAllWindows()"
   ]
  },
  {
   "cell_type": "code",
   "execution_count": null,
   "metadata": {},
   "outputs": [],
   "source": []
  },
  {
   "cell_type": "code",
   "execution_count": null,
   "metadata": {},
   "outputs": [],
   "source": []
  }
 ],
 "metadata": {
  "kernelspec": {
   "display_name": "Python 3",
   "language": "python",
   "name": "python3"
  },
  "language_info": {
   "codemirror_mode": {
    "name": "ipython",
    "version": 3
   },
   "file_extension": ".py",
   "mimetype": "text/x-python",
   "name": "python",
   "nbconvert_exporter": "python",
   "pygments_lexer": "ipython3",
   "version": "3.6.6"
  }
 },
 "nbformat": 4,
 "nbformat_minor": 2
}
