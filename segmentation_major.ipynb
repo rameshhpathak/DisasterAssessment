{
  "nbformat": 4,
  "nbformat_minor": 0,
  "metadata": {
    "colab": {
      "name": "segmentation_major.ipynb",
      "version": "0.3.2",
      "provenance": [],
      "collapsed_sections": [],
      "include_colab_link": true
    },
    "kernelspec": {
      "name": "python3",
      "display_name": "Python 3"
    },
    "accelerator": "GPU"
  },
  "cells": [
    {
      "cell_type": "markdown",
      "metadata": {
        "id": "view-in-github",
        "colab_type": "text"
      },
      "source": [
        "<a href=\"https://colab.research.google.com/github/rameshhpathak/DisasterAssessment/blob/master/segmentation_major.ipynb\" target=\"_parent\"><img src=\"https://colab.research.google.com/assets/colab-badge.svg\" alt=\"Open In Colab\"/></a>"
      ]
    },
    {
      "metadata": {
        "id": "Zp5VK_kdr3n-",
        "colab_type": "code",
        "colab": {
          "base_uri": "https://localhost:8080/",
          "height": 52
        },
        "outputId": "94480d71-5221-4963-aa2e-6e9a3b152a3c"
      },
      "cell_type": "code",
      "source": [
        "# Install the PyDrive wrapper & import libraries.\n",
        "# This only needs to be done once per notebook.\n",
        "!pip install -U -q PyDrive\n",
        "from pydrive.auth import GoogleAuth\n",
        "from pydrive.drive import GoogleDrive\n",
        "from google.colab import auth\n",
        "from oauth2client.client import GoogleCredentials\n",
        "\n",
        "# Authenticate and create the PyDrive client.\n",
        "# This only needs to be done once per notebook.\n",
        "auth.authenticate_user()\n",
        "gauth = GoogleAuth()\n",
        "gauth.credentials = GoogleCredentials.get_application_default()\n",
        "drive = GoogleDrive(gauth)\n",
        "\n"
      ],
      "execution_count": 2,
      "outputs": [
        {
          "output_type": "stream",
          "text": [
            "\u001b[?25l\r\u001b[K    1% |▎                               | 10kB 22.0MB/s eta 0:00:01\r\u001b[K    2% |▋                               | 20kB 5.3MB/s eta 0:00:01\r\u001b[K    3% |█                               | 30kB 7.5MB/s eta 0:00:01\r\u001b[K    4% |█▎                              | 40kB 4.7MB/s eta 0:00:01\r\u001b[K    5% |█▋                              | 51kB 5.8MB/s eta 0:00:01\r\u001b[K    6% |██                              | 61kB 6.8MB/s eta 0:00:01\r\u001b[K    7% |██▎                             | 71kB 7.8MB/s eta 0:00:01\r\u001b[K    8% |██▋                             | 81kB 8.7MB/s eta 0:00:01\r\u001b[K    9% |███                             | 92kB 9.6MB/s eta 0:00:01\r\u001b[K    10% |███▎                            | 102kB 7.6MB/s eta 0:00:01\r\u001b[K    11% |███▋                            | 112kB 7.7MB/s eta 0:00:01\r\u001b[K    12% |████                            | 122kB 10.1MB/s eta 0:00:01\r\u001b[K    13% |████▎                           | 133kB 10.1MB/s eta 0:00:01\r\u001b[K    14% |████▋                           | 143kB 17.8MB/s eta 0:00:01\r\u001b[K    15% |█████                           | 153kB 18.0MB/s eta 0:00:01\r\u001b[K    16% |█████▎                          | 163kB 18.0MB/s eta 0:00:01\r\u001b[K    17% |█████▋                          | 174kB 17.4MB/s eta 0:00:01\r\u001b[K    18% |██████                          | 184kB 17.7MB/s eta 0:00:01\r\u001b[K    19% |██████▎                         | 194kB 17.8MB/s eta 0:00:01\r\u001b[K    20% |██████▋                         | 204kB 45.4MB/s eta 0:00:01\r\u001b[K    21% |███████                         | 215kB 22.1MB/s eta 0:00:01\r\u001b[K    22% |███████▎                        | 225kB 22.3MB/s eta 0:00:01\r\u001b[K    23% |███████▋                        | 235kB 22.4MB/s eta 0:00:01\r\u001b[K    24% |████████                        | 245kB 21.9MB/s eta 0:00:01\r\u001b[K    25% |████████▎                       | 256kB 22.0MB/s eta 0:00:01\r\u001b[K    26% |████████▋                       | 266kB 20.9MB/s eta 0:00:01\r\u001b[K    27% |█████████                       | 276kB 22.0MB/s eta 0:00:01\r\u001b[K    29% |█████████▎                      | 286kB 22.1MB/s eta 0:00:01\r\u001b[K    30% |█████████▋                      | 296kB 22.0MB/s eta 0:00:01\r\u001b[K    31% |██████████                      | 307kB 22.9MB/s eta 0:00:01\r\u001b[K    32% |██████████▎                     | 317kB 52.8MB/s eta 0:00:01\r\u001b[K    33% |██████████▋                     | 327kB 53.3MB/s eta 0:00:01\r\u001b[K    34% |███████████                     | 337kB 55.7MB/s eta 0:00:01\r\u001b[K    35% |███████████▎                    | 348kB 52.5MB/s eta 0:00:01\r\u001b[K    36% |███████████▋                    | 358kB 52.6MB/s eta 0:00:01\r\u001b[K    37% |████████████                    | 368kB 60.9MB/s eta 0:00:01\r\u001b[K    38% |████████████▎                   | 378kB 58.6MB/s eta 0:00:01\r\u001b[K    39% |████████████▋                   | 389kB 56.8MB/s eta 0:00:01\r\u001b[K    40% |█████████████                   | 399kB 32.4MB/s eta 0:00:01\r\u001b[K    41% |█████████████▎                  | 409kB 31.7MB/s eta 0:00:01\r\u001b[K    42% |█████████████▋                  | 419kB 31.4MB/s eta 0:00:01\r\u001b[K    43% |██████████████                  | 430kB 31.4MB/s eta 0:00:01\r\u001b[K    44% |██████████████▎                 | 440kB 30.2MB/s eta 0:00:01\r\u001b[K    45% |██████████████▋                 | 450kB 30.9MB/s eta 0:00:01\r\u001b[K    46% |███████████████                 | 460kB 30.6MB/s eta 0:00:01\r\u001b[K    47% |███████████████▎                | 471kB 30.6MB/s eta 0:00:01\r\u001b[K    48% |███████████████▋                | 481kB 31.2MB/s eta 0:00:01\r\u001b[K    49% |████████████████                | 491kB 31.7MB/s eta 0:00:01\r\u001b[K    50% |████████████████▎               | 501kB 55.1MB/s eta 0:00:01\r\u001b[K    51% |████████████████▋               | 512kB 52.9MB/s eta 0:00:01\r\u001b[K    52% |█████████████████               | 522kB 53.9MB/s eta 0:00:01\r\u001b[K    53% |█████████████████▎              | 532kB 53.1MB/s eta 0:00:01\r\u001b[K    54% |█████████████████▋              | 542kB 24.9MB/s eta 0:00:01\r\u001b[K    55% |██████████████████              | 552kB 24.6MB/s eta 0:00:01\r\u001b[K    57% |██████████████████▎             | 563kB 23.9MB/s eta 0:00:01\r\u001b[K    58% |██████████████████▋             | 573kB 23.3MB/s eta 0:00:01\r\u001b[K    59% |███████████████████             | 583kB 23.2MB/s eta 0:00:01\r\u001b[K    60% |███████████████████▎            | 593kB 23.0MB/s eta 0:00:01\r\u001b[K    61% |███████████████████▋            | 604kB 23.1MB/s eta 0:00:01\r\u001b[K    62% |████████████████████            | 614kB 23.7MB/s eta 0:00:01\r\u001b[K    63% |████████████████████▎           | 624kB 23.6MB/s eta 0:00:01\r\u001b[K    64% |████████████████████▋           | 634kB 23.7MB/s eta 0:00:01\r\u001b[K    65% |█████████████████████           | 645kB 51.3MB/s eta 0:00:01\r\u001b[K    66% |█████████████████████▎          | 655kB 56.3MB/s eta 0:00:01\r\u001b[K    67% |█████████████████████▋          | 665kB 48.3MB/s eta 0:00:01\r\u001b[K    68% |██████████████████████          | 675kB 50.4MB/s eta 0:00:01\r\u001b[K    69% |██████████████████████▎         | 686kB 50.9MB/s eta 0:00:01\r\u001b[K    70% |██████████████████████▋         | 696kB 52.1MB/s eta 0:00:01\r\u001b[K    71% |███████████████████████         | 706kB 51.8MB/s eta 0:00:01\r\u001b[K    72% |███████████████████████▎        | 716kB 52.3MB/s eta 0:00:01\r\u001b[K    73% |███████████████████████▋        | 727kB 52.6MB/s eta 0:00:01\r\u001b[K    74% |████████████████████████        | 737kB 52.4MB/s eta 0:00:01\r\u001b[K    75% |████████████████████████▎       | 747kB 52.3MB/s eta 0:00:01\r\u001b[K    76% |████████████████████████▋       | 757kB 52.2MB/s eta 0:00:01\r\u001b[K    77% |████████████████████████▉       | 768kB 67.0MB/s eta 0:00:01\r\u001b[K    78% |█████████████████████████▏      | 778kB 67.7MB/s eta 0:00:01\r\u001b[K    79% |█████████████████████████▌      | 788kB 68.0MB/s eta 0:00:01\r\u001b[K    80% |█████████████████████████▉      | 798kB 68.4MB/s eta 0:00:01\r\u001b[K    81% |██████████████████████████▏     | 808kB 65.9MB/s eta 0:00:01\r\u001b[K    82% |██████████████████████████▌     | 819kB 65.1MB/s eta 0:00:01\r\u001b[K    83% |██████████████████████████▉     | 829kB 64.2MB/s eta 0:00:01\r\u001b[K    85% |███████████████████████████▏    | 839kB 63.3MB/s eta 0:00:01\r\u001b[K    86% |███████████████████████████▌    | 849kB 62.9MB/s eta 0:00:01\r\u001b[K    87% |███████████████████████████▉    | 860kB 56.4MB/s eta 0:00:01\r\u001b[K    88% |████████████████████████████▏   | 870kB 55.3MB/s eta 0:00:01\r\u001b[K    89% |████████████████████████████▌   | 880kB 55.3MB/s eta 0:00:01\r\u001b[K    90% |████████████████████████████▉   | 890kB 53.7MB/s eta 0:00:01\r\u001b[K    91% |█████████████████████████████▏  | 901kB 53.4MB/s eta 0:00:01\r\u001b[K    92% |█████████████████████████████▌  | 911kB 55.5MB/s eta 0:00:01\r\u001b[K    93% |█████████████████████████████▉  | 921kB 56.1MB/s eta 0:00:01\r\u001b[K    94% |██████████████████████████████▏ | 931kB 56.7MB/s eta 0:00:01\r\u001b[K    95% |██████████████████████████████▌ | 942kB 58.9MB/s eta 0:00:01\r\u001b[K    96% |██████████████████████████████▉ | 952kB 59.5MB/s eta 0:00:01\r\u001b[K    97% |███████████████████████████████▏| 962kB 65.3MB/s eta 0:00:01\r\u001b[K    98% |███████████████████████████████▌| 972kB 66.5MB/s eta 0:00:01\r\u001b[K    99% |███████████████████████████████▉| 983kB 63.4MB/s eta 0:00:01\r\u001b[K    100% |████████████████████████████████| 993kB 20.4MB/s \n",
            "\u001b[?25h  Building wheel for PyDrive (setup.py) ... \u001b[?25ldone\n",
            "\u001b[?25h"
          ],
          "name": "stdout"
        }
      ]
    },
    {
      "metadata": {
        "id": "WIYt5SGyoDvM",
        "colab_type": "code",
        "colab": {}
      },
      "cell_type": "code",
      "source": [
        "Basic_blocks = drive.CreateFile({'id':'1LIJahCBOgKswPjV3dCdjno6iQunL1JQN'})\n",
        "FusionNet = drive.CreateFile({'id':'1tEd6iRLRH-aQO7dzZkkYnZ4sYDVSaNNz'})\n",
        "UNet = drive.CreateFile({'id':'1Xf0xSo-CswXiuiUR_tc9IbvzRx-UWU7M'})"
      ],
      "execution_count": 0,
      "outputs": []
    },
    {
      "metadata": {
        "id": "KKPeQn4du1qC",
        "colab_type": "code",
        "colab": {}
      },
      "cell_type": "code",
      "source": [
        "Basic_blocks.GetContentFile('Basic_blocks.py')\n",
        "FusionNet.GetContentFile('FusionNet.py')\n",
        "UNet.GetContentFile('UNet.py')"
      ],
      "execution_count": 0,
      "outputs": []
    },
    {
      "metadata": {
        "id": "hk0_tJp-vp8X",
        "colab_type": "code",
        "colab": {}
      },
      "cell_type": "code",
      "source": [
        "from FusionNet import *\n",
        "from UNet import *\n",
        "import numpy as np\n",
        "import matplotlib.pyplot as plt"
      ],
      "execution_count": 0,
      "outputs": []
    },
    {
      "metadata": {
        "id": "T7-hyKcjvwX3",
        "colab_type": "code",
        "colab": {}
      },
      "cell_type": "code",
      "source": [
        "# hyperparameters\n",
        "\n",
        "batch_size = 5\n",
        "img_size = 256\n",
        "lr = 0.001\n",
        "epoch = 50"
      ],
      "execution_count": 0,
      "outputs": []
    },
    {
      "metadata": {
        "id": "BH-ZEYe27M3T",
        "colab_type": "code",
        "outputId": "278ee9fb-ba9a-4823-9002-ed14b6980261",
        "colab": {
          "base_uri": "https://localhost:8080/",
          "height": 125
        }
      },
      "cell_type": "code",
      "source": [
        "# Load the Drive helper and mount\n",
        "from google.colab import drive\n",
        "\n",
        "# This will prompt for authorization.\n",
        "drive.mount('/content/drive')"
      ],
      "execution_count": 7,
      "outputs": [
        {
          "output_type": "stream",
          "text": [
            "Go to this URL in a browser: https://accounts.google.com/o/oauth2/auth?client_id=947318989803-6bn6qk8qdgf4n4g3pfee6491hc0brc4i.apps.googleusercontent.com&redirect_uri=urn%3Aietf%3Awg%3Aoauth%3A2.0%3Aoob&scope=email%20https%3A%2F%2Fwww.googleapis.com%2Fauth%2Fdocs.test%20https%3A%2F%2Fwww.googleapis.com%2Fauth%2Fdrive%20https%3A%2F%2Fwww.googleapis.com%2Fauth%2Fdrive.photos.readonly%20https%3A%2F%2Fwww.googleapis.com%2Fauth%2Fpeopleapi.readonly&response_type=code\n",
            "\n",
            "Enter your authorization code:\n",
            "··········\n",
            "Mounted at /content/drive\n"
          ],
          "name": "stdout"
        }
      ]
    },
    {
      "metadata": {
        "id": "0htmPDTbxLNj",
        "colab_type": "code",
        "colab": {}
      },
      "cell_type": "code",
      "source": [
        "# input pipeline\n",
        "\n",
        "img_dir = \"/content/drive/My Drive/Major Project/Images/Datasets/DeepGlobe/Roads\"\n",
        "\n",
        "img_data = dset.ImageFolder(root=img_dir, transform=transforms.Compose([\n",
        "    transforms.Resize(size=img_size),\n",
        "    transforms.CenterCrop(size=(img_size, img_size * 2)),\n",
        "    transforms.ToTensor(),\n",
        "]))\n",
        "img_batch = data.DataLoader(img_data, batch_size=batch_size,\n",
        "                            shuffle=True, num_workers=5)"
      ],
      "execution_count": 0,
      "outputs": []
    },
    {
      "metadata": {
        "id": "rjuieKXN-IQt",
        "colab_type": "code",
        "outputId": "bde970ea-eff4-4865-aadc-b2da9cb5e500",
        "colab": {
          "base_uri": "https://localhost:8080/",
          "height": 34
        }
      },
      "cell_type": "code",
      "source": [
        "torch.cuda.get_device_name(0)\n"
      ],
      "execution_count": 10,
      "outputs": [
        {
          "output_type": "execute_result",
          "data": {
            "text/plain": [
              "'Tesla K80'"
            ]
          },
          "metadata": {
            "tags": []
          },
          "execution_count": 10
        }
      ]
    },
    {
      "metadata": {
        "id": "57jJqMFkGtWi",
        "colab_type": "code",
        "outputId": "e364e5f8-a277-4a54-deeb-4a05fb093c25",
        "colab": {
          "base_uri": "https://localhost:8080/",
          "height": 70
        }
      },
      "cell_type": "code",
      "source": [
        "generator = FusionGenerator(3, 3, 64).cuda()"
      ],
      "execution_count": 11,
      "outputs": [
        {
          "output_type": "stream",
          "text": [
            "\n",
            "------Initiating FusionNet------\n",
            "\n"
          ],
          "name": "stdout"
        }
      ]
    },
    {
      "metadata": {
        "id": "c6mtQFA2VTdW",
        "colab_type": "code",
        "outputId": "5cd628a7-2b15-4f16-9021-f8b4ba42741f",
        "colab": {
          "base_uri": "https://localhost:8080/",
          "height": 70
        }
      },
      "cell_type": "code",
      "source": [
        "try:\n",
        "  state = torch.load('/content/drive/My Drive/Major Project/Images/Datasets/DeepGlobe/segmentation/model/fusionnet.pth')\n",
        "  print('\\n-------model restored--------\\n')\n",
        "  generator.load_state_dict(state['state_dict'])\n",
        "  gen_optimizer.load_state_dict(state['optimizer'])\n",
        "  epoch_now = state['epoch']\n",
        "  \n",
        "except:\n",
        "  print('\\n-------model not restored----\\n')\n",
        "  gen_optimizer = torch.optim.Adam(generator.parameters(), lr= lr)\n",
        "  epoch_now = 0\n",
        "  pass"
      ],
      "execution_count": 12,
      "outputs": [
        {
          "output_type": "stream",
          "text": [
            "\n",
            "-------model not restored----\n",
            "\n"
          ],
          "name": "stdout"
        }
      ]
    },
    {
      "metadata": {
        "id": "LVZ18gyBsryL",
        "colab_type": "code",
        "colab": {}
      },
      "cell_type": "code",
      "source": [
        "recon_loss_func = nn.MSELoss()"
      ],
      "execution_count": 0,
      "outputs": []
    },
    {
      "metadata": {
        "id": "hw5HjFzQdWQZ",
        "colab_type": "code",
        "colab": {}
      },
      "cell_type": "code",
      "source": [
        "loc = '/content/drive/My Drive/Major Project/Images/Datasets/DeepGlobe/segmentation/model/'"
      ],
      "execution_count": 0,
      "outputs": []
    },
    {
      "metadata": {
        "id": "n5oE9aSSdWrF",
        "colab_type": "code",
        "colab": {}
      },
      "cell_type": "code",
      "source": [
        "file = open(loc + 'fusionnet_mse_loss2', 'w')"
      ],
      "execution_count": 0,
      "outputs": []
    },
    {
      "metadata": {
        "id": "LPL43fJGgLWP",
        "colab_type": "code",
        "outputId": "50bc28c4-df1e-47aa-e963-e10815d37f3a",
        "colab": {
          "base_uri": "https://localhost:8080/",
          "height": 34
        }
      },
      "cell_type": "code",
      "source": [
        "\n",
        "len(img_batch)"
      ],
      "execution_count": 16,
      "outputs": [
        {
          "output_type": "execute_result",
          "data": {
            "text/plain": [
              "798"
            ]
          },
          "metadata": {
            "tags": []
          },
          "execution_count": 16
        }
      ]
    },
    {
      "metadata": {
        "id": "ABnBrlTAhzLm",
        "colab_type": "code",
        "colab": {}
      },
      "cell_type": "code",
      "source": [
        "import matplotlib.pyplot as plt"
      ],
      "execution_count": 0,
      "outputs": []
    },
    {
      "metadata": {
        "id": "c2_PTHidXMRi",
        "colab_type": "code",
        "outputId": "35095ebd-7ff8-4c7c-de4b-c37cc6c44ebf",
        "colab": {
          "base_uri": "https://localhost:8080/",
          "height": 52
        }
      },
      "cell_type": "code",
      "source": [
        "loss_in_epoch = []\n",
        "for i in range(epoch_now, epoch):\n",
        "  total_loss = 0\n",
        "  for _, (image, label) in enumerate(img_batch):\n",
        "        satel_image, map_image = torch.chunk(image, chunks=2, dim=3)\n",
        "\n",
        "        gen_optimizer.zero_grad()\n",
        "\n",
        "        x = Variable(satel_image).cuda(0)\n",
        "        y_ = Variable(map_image).cuda(0)\n",
        "        y = generator.forward(x)\n",
        "\n",
        "        loss = recon_loss_func(y, y_)\n",
        "        file.write(str(loss) + \"\\n\")\n",
        "        loss.backward()\n",
        "        gen_optimizer.step()\n",
        "        \n",
        "        total_loss += loss.item()\n",
        "\n",
        "        if _ % 800 == 0:\n",
        "            print(i)\n",
        "            print(loss)\n",
        "            v_utils.save_image(x.cpu().data, loc + \"result/original_image_{}_{}.png\".format(i, _))\n",
        "            v_utils.save_image(y_.cpu().data, loc + \"result/label_image_{}_{}.png\".format(i, _))\n",
        "            v_utils.save_image(y.cpu().data, loc + \"result/gen_image_{}_{}.png\".format(i, _))\n",
        "            \n",
        "          \n",
        "  state = {\n",
        "      'epoch': i+1,\n",
        "      'state-dict': generator.state_dict(),\n",
        "      'optimizer': gen_optimizer.state_dict(),\n",
        "      'losslogger': losslogger,\n",
        "       }\n",
        "  \n",
        "  torch.save(state, loc + 'fusionnet.pth')\n",
        "  \n",
        "  loss_in_epoch.append(total_loss/len(img_batch))\n",
        "  \n",
        "  if i % 10 == 0:\n",
        "    plt.plot(loss_in_epoch)\n",
        "    plt.savefig(loc + 'loss/loss_in_{}'.format(i))\n",
        "  \n",
        "\n",
        "   \n",
        "           \n",
        "\n"
      ],
      "execution_count": 0,
      "outputs": [
        {
          "output_type": "stream",
          "text": [
            "0\n",
            "tensor(0.1000, device='cuda:0', grad_fn=<MseLossBackward>)\n"
          ],
          "name": "stdout"
        }
      ]
    },
    {
      "metadata": {
        "id": "UI_4Phs3XZGY",
        "colab_type": "code",
        "colab": {}
      },
      "cell_type": "code",
      "source": [
        ""
      ],
      "execution_count": 0,
      "outputs": []
    }
  ]
}