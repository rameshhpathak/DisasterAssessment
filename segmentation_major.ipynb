{
  "nbformat": 4,
  "nbformat_minor": 0,
  "metadata": {
    "colab": {
      "name": "segmentation_major.ipynb",
      "version": "0.3.2",
      "provenance": [],
      "collapsed_sections": [],
      "include_colab_link": true
    },
    "kernelspec": {
      "name": "python3",
      "display_name": "Python 3"
    },
    "accelerator": "GPU"
  },
  "cells": [
    {
      "cell_type": "markdown",
      "metadata": {
        "id": "view-in-github",
        "colab_type": "text"
      },
      "source": [
        "<a href=\"https://colab.research.google.com/github/rameshhpathak/DisasterAssessment/blob/master/segmentation_major.ipynb\" target=\"_parent\"><img src=\"https://colab.research.google.com/assets/colab-badge.svg\" alt=\"Open In Colab\"/></a>"
      ]
    },
    {
      "metadata": {
        "id": "jMUBqsU6n8OO",
        "colab_type": "code",
        "colab": {}
      },
      "cell_type": "code",
      "source": [
        ""
      ],
      "execution_count": 0,
      "outputs": []
    },
    {
      "metadata": {
        "id": "Zp5VK_kdr3n-",
        "colab_type": "code",
        "colab": {}
      },
      "cell_type": "code",
      "source": [
        "# Install the PyDrive wrapper & import libraries.\n",
        "# This only needs to be done once per notebook.\n",
        "!pip install -U -q PyDrive\n",
        "from pydrive.auth import GoogleAuth\n",
        "from pydrive.drive import GoogleDrive\n",
        "from google.colab import auth\n",
        "from oauth2client.client import GoogleCredentials\n",
        "\n",
        "# Authenticate and create the PyDrive client.\n",
        "# This only needs to be done once per notebook.\n",
        "auth.authenticate_user()\n",
        "gauth = GoogleAuth()\n",
        "gauth.credentials = GoogleCredentials.get_application_default()\n",
        "drive = GoogleDrive(gauth)\n",
        "\n"
      ],
      "execution_count": 0,
      "outputs": []
    },
    {
      "metadata": {
        "id": "WIYt5SGyoDvM",
        "colab_type": "code",
        "colab": {}
      },
      "cell_type": "code",
      "source": [
        "Basic_blocks = drive.CreateFile({'id':'1LIJahCBOgKswPjV3dCdjno6iQunL1JQN'})\n",
        "FusionNet = drive.CreateFile({'id':'1tEd6iRLRH-aQO7dzZkkYnZ4sYDVSaNNz'})\n",
        "UNet = drive.CreateFile({'id':'1Xf0xSo-CswXiuiUR_tc9IbvzRx-UWU7M'})"
      ],
      "execution_count": 0,
      "outputs": []
    },
    {
      "metadata": {
        "id": "KKPeQn4du1qC",
        "colab_type": "code",
        "colab": {}
      },
      "cell_type": "code",
      "source": [
        "Basic_blocks.GetContentFile('Basic_blocks.py')\n",
        "FusionNet.GetContentFile('FusionNet.py')\n",
        "UNet.GetContentFile('UNet.py')"
      ],
      "execution_count": 0,
      "outputs": []
    },
    {
      "metadata": {
        "id": "hk0_tJp-vp8X",
        "colab_type": "code",
        "colab": {}
      },
      "cell_type": "code",
      "source": [
        "from FusionNet import *\n",
        "from UNet import *\n",
        "import numpy as np\n",
        "import matplotlib.pyplot as plt"
      ],
      "execution_count": 0,
      "outputs": []
    },
    {
      "metadata": {
        "id": "T7-hyKcjvwX3",
        "colab_type": "code",
        "colab": {}
      },
      "cell_type": "code",
      "source": [
        "# hyperparameters\n",
        "\n",
        "batch_size = 5\n",
        "img_size = 256\n",
        "lr = 0.001\n",
        "epoch = 100"
      ],
      "execution_count": 0,
      "outputs": []
    },
    {
      "metadata": {
        "id": "BH-ZEYe27M3T",
        "colab_type": "code",
        "outputId": "e06d7dd9-aacb-4c15-d09c-688cce8396c4",
        "colab": {
          "base_uri": "https://localhost:8080/",
          "height": 34
        }
      },
      "cell_type": "code",
      "source": [
        "# Load the Drive helper and mount\n",
        "from google.colab import drive\n",
        "\n",
        "# This will prompt for authorization.\n",
        "drive.mount('/content/drive')"
      ],
      "execution_count": 43,
      "outputs": [
        {
          "output_type": "stream",
          "text": [
            "Drive already mounted at /content/drive; to attempt to forcibly remount, call drive.mount(\"/content/drive\", force_remount=True).\n"
          ],
          "name": "stdout"
        }
      ]
    },
    {
      "metadata": {
        "id": "89-Gtjb-9XBB",
        "colab_type": "code",
        "outputId": "dea68c73-38d9-4ece-eb72-48a8ea13b589",
        "colab": {
          "base_uri": "https://localhost:8080/",
          "height": 34
        }
      },
      "cell_type": "code",
      "source": [
        "!ls '/content/drive/My Drive/Major Project/Images/Datasets/DeepGlobe/Roads'"
      ],
      "execution_count": 44,
      "outputs": [
        {
          "output_type": "stream",
          "text": [
            "mergetrain\n"
          ],
          "name": "stdout"
        }
      ]
    },
    {
      "metadata": {
        "id": "0htmPDTbxLNj",
        "colab_type": "code",
        "colab": {}
      },
      "cell_type": "code",
      "source": [
        "# input pipeline\n",
        "\n",
        "img_dir = \"/content/drive/My Drive/Major Project/Images/Datasets/DeepGlobe/Roads\"\n",
        "\n",
        "img_data = dset.ImageFolder(root=img_dir, transform=transforms.Compose([\n",
        "    transforms.Resize(size=img_size),\n",
        "    transforms.CenterCrop(size=(img_size, img_size * 2)),\n",
        "    transforms.ToTensor(),\n",
        "]))\n",
        "img_batch = data.DataLoader(img_data, batch_size=batch_size,\n",
        "                            shuffle=True, num_workers=5)"
      ],
      "execution_count": 0,
      "outputs": []
    },
    {
      "metadata": {
        "id": "rjuieKXN-IQt",
        "colab_type": "code",
        "outputId": "f5f3e09b-c96f-4633-8512-a3b1d506faa3",
        "colab": {
          "base_uri": "https://localhost:8080/",
          "height": 34
        }
      },
      "cell_type": "code",
      "source": [
        "torch.cuda.get_device_name(0)\n"
      ],
      "execution_count": 46,
      "outputs": [
        {
          "output_type": "execute_result",
          "data": {
            "text/plain": [
              "'Tesla K80'"
            ]
          },
          "metadata": {
            "tags": []
          },
          "execution_count": 46
        }
      ]
    },
    {
      "metadata": {
        "id": "57jJqMFkGtWi",
        "colab_type": "code",
        "colab": {
          "base_uri": "https://localhost:8080/",
          "height": 70
        },
        "outputId": "ccf79800-1806-42b2-8a45-dc302c95d421"
      },
      "cell_type": "code",
      "source": [
        "generator = FusionGenerator(3, 3, 64).cuda()"
      ],
      "execution_count": 47,
      "outputs": [
        {
          "output_type": "stream",
          "text": [
            "\n",
            "------Initiating FusionNet------\n",
            "\n"
          ],
          "name": "stdout"
        }
      ]
    },
    {
      "metadata": {
        "id": "c6mtQFA2VTdW",
        "colab_type": "code",
        "colab": {
          "base_uri": "https://localhost:8080/",
          "height": 70
        },
        "outputId": "aa37f7e8-0cfd-464c-cc76-b48fd491fdcd"
      },
      "cell_type": "code",
      "source": [
        "try:\n",
        "  generator = torch.load('/content/drive/My Drive/Major Project/Images/Datasets/DeepGlobe/segmentation/model/fusionnet.pkl')\n",
        "  print('\\n-------model restored--------\\n')\n",
        "except:\n",
        "  print('\\n-------model not restored----\\n')\n",
        "  pass"
      ],
      "execution_count": 48,
      "outputs": [
        {
          "output_type": "stream",
          "text": [
            "\n",
            "-------model not restored----\n",
            "\n"
          ],
          "name": "stdout"
        }
      ]
    },
    {
      "metadata": {
        "id": "aV33ssetWpJS",
        "colab_type": "code",
        "colab": {}
      },
      "cell_type": "code",
      "source": [
        "recon_loss_func = nn.MSELoss()\n",
        "gen_optimizer = torch.optim.Adam(generator.parameters(), lr= lr)"
      ],
      "execution_count": 0,
      "outputs": []
    },
    {
      "metadata": {
        "id": "hw5HjFzQdWQZ",
        "colab_type": "code",
        "colab": {}
      },
      "cell_type": "code",
      "source": [
        "loc = '/content/drive/My Drive/Major Project/Images/Datasets/DeepGlobe/segmentation/model/'"
      ],
      "execution_count": 0,
      "outputs": []
    },
    {
      "metadata": {
        "id": "n5oE9aSSdWrF",
        "colab_type": "code",
        "colab": {}
      },
      "cell_type": "code",
      "source": [
        "file = open(loc + 'fusionnet_mse_loss', 'w')"
      ],
      "execution_count": 0,
      "outputs": []
    },
    {
      "metadata": {
        "id": "LPL43fJGgLWP",
        "colab_type": "code",
        "colab": {
          "base_uri": "https://localhost:8080/",
          "height": 34
        },
        "outputId": "2082eff8-67dc-4bcb-f7df-1363c1f49b09"
      },
      "cell_type": "code",
      "source": [
        "len(img_batch)"
      ],
      "execution_count": 52,
      "outputs": [
        {
          "output_type": "execute_result",
          "data": {
            "text/plain": [
              "798"
            ]
          },
          "metadata": {
            "tags": []
          },
          "execution_count": 52
        }
      ]
    },
    {
      "metadata": {
        "id": "ABnBrlTAhzLm",
        "colab_type": "code",
        "colab": {}
      },
      "cell_type": "code",
      "source": [
        "import matplotlib.pyplot as plt"
      ],
      "execution_count": 0,
      "outputs": []
    },
    {
      "metadata": {
        "id": "c2_PTHidXMRi",
        "colab_type": "code",
        "colab": {
          "base_uri": "https://localhost:8080/",
          "height": 52
        },
        "outputId": "0f43d4d4-b43b-4316-e23c-64a25a035a0e"
      },
      "cell_type": "code",
      "source": [
        "loss_in_epoch = []\n",
        "for i in range(epoch):\n",
        "  total_loss = 0\n",
        "  for _, (image, label) in enumerate(img_batch):\n",
        "        satel_image, map_image = torch.chunk(image, chunks=2, dim=3)\n",
        "\n",
        "        gen_optimizer.zero_grad()\n",
        "\n",
        "        x = Variable(satel_image).cuda(0)\n",
        "        y_ = Variable(map_image).cuda(0)\n",
        "        y = generator.forward(x)\n",
        "\n",
        "        loss = recon_loss_func(y, y_)\n",
        "        file.write(str(loss) + \"\\n\")\n",
        "        loss.backward()\n",
        "        gen_optimizer.step()\n",
        "        \n",
        "        total_loss+=loss\n",
        "\n",
        "        if _ % 800 == 0:\n",
        "            print(i)\n",
        "            print(loss)\n",
        "            v_utils.save_image(x.cpu().data, loc + \"result/original_image_{}_{}.png\".format(i, _))\n",
        "            v_utils.save_image(y_.cpu().data, loc + \"result/label_image_{}_{}.png\".format(i, _))\n",
        "            v_utils.save_image(y.cpu().data, loc + \"result/gen_image_{}_{}.png\".format(i, _))\n",
        "            torch.save(generator, loc + 'fusionnet.pkl')\n",
        "  loss_in_epoch.append(total_loss/len(img_batch))\n",
        "  \n",
        "  if i % 20 == 0:\n",
        "    plt.plot(loss_in_epoch)\n",
        "    plt.save(loc + 'loss/loss_in_{}'.format(i))\n",
        "  \n",
        "\n",
        "   \n",
        "           \n",
        "\n"
      ],
      "execution_count": 0,
      "outputs": [
        {
          "output_type": "stream",
          "text": [
            "0\n",
            "tensor(0.1131, device='cuda:0', grad_fn=<MseLossBackward>)\n"
          ],
          "name": "stdout"
        }
      ]
    },
    {
      "metadata": {
        "id": "UI_4Phs3XZGY",
        "colab_type": "code",
        "colab": {}
      },
      "cell_type": "code",
      "source": [
        ""
      ],
      "execution_count": 0,
      "outputs": []
    }
  ]
}